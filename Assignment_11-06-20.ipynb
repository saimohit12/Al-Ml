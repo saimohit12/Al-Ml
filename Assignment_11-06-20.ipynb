{
 "cells": [
  {
   "cell_type": "markdown",
   "metadata": {},
   "source": []
  },
  {
   "cell_type": "markdown",
   "metadata": {},
   "source": [
    "# CSE-221710302056-S Sai Mohit"
   ]
  },
  {
   "cell_type": "markdown",
   "metadata": {},
   "source": [
    "Question 1:\n",
    "<br><a href=\"https://www.codechef.com/problems/RECNDSTR\">Codechef Question</a>\n",
    "<br>Chef has a string $S$ consisting of lowercase English characters. Chef defined functions left shift $L(X)$ and right shift <br>$R(X)$ as follows.\n",
    "<br>$L(X)$ is defined as shifting all characters of string $X$ one step towards the left and moving the first character to the end.\n",
    "<br>$R(X)$ is defined as shifting all characters of string $X$ one step towards the right and moving the last character to the <br>beginning.\n",
    "<br>For example, L(\"abcd\") = \"bcda\" and R(\"abcd\") = \"dabc\"\n",
    "<br>Chef wants to find out whether there exists a string $V$ of the same length as $S$ such that both $L(V) = S$ and $R(V) = S$ holds.\n"
   ]
  },
  {
   "cell_type": "code",
   "execution_count": 3,
   "metadata": {},
   "outputs": [
    {
     "name": "stdout",
     "output_type": "stream",
     "text": [
      "4\n",
      "a\n",
      "ab\n",
      "abcd\n",
      "aaaaa\n",
      "YES\n",
      "YES\n",
      "NO\n",
      "YES\n"
     ]
    }
   ],
   "source": [
    "def L(x):\n",
    "    return x[1:]+x[0]\n",
    "\n",
    "def R(x):\n",
    "    return x[-1]+x[:len(x)-1]\n",
    "\n",
    "n=int(input())\n",
    "s=[input() for i in range(n)]\n",
    "for x in s:\n",
    "    print(\"YES\") if L(x)==R(x) else print(\"NO\")"
   ]
  },
  {
   "cell_type": "markdown",
   "metadata": {},
   "source": [
    "Question 2:\n",
    "<br><a href=\"https://www.hackerrank.com/challenges/beautiful-days-at-the-movies/problem\">Question in hackerrank</a>"
   ]
  },
  {
   "cell_type": "code",
   "execution_count": 16,
   "metadata": {},
   "outputs": [
    {
     "name": "stdout",
     "output_type": "stream",
     "text": [
      "20 23 6\n",
      "2\n"
     ]
    }
   ],
   "source": [
    "def rev(n):\n",
    "    r=0\n",
    "    while(n>0):\n",
    "        r=r*10+n%10\n",
    "        n=n//10\n",
    "    return r\n",
    "s=input().split()\n",
    "cou=0\n",
    "s=[int(i) for i in s]\n",
    "for i in range(s[0],s[1]):\n",
    "    if (abs(i-rev(i)))%s[2]==0:\n",
    "        cou+=1\n",
    "\n",
    "print(cou)"
   ]
  },
  {
   "cell_type": "markdown",
   "metadata": {},
   "source": [
    "Question 3: <br><a href=\"https://www.hackerrank.com/challenges/birthday-cake-candles/problem\">Question in hackerrank</a>"
   ]
  },
  {
   "cell_type": "code",
   "execution_count": 30,
   "metadata": {},
   "outputs": [
    {
     "name": "stdout",
     "output_type": "stream",
     "text": [
      "4\n",
      "3 1 2 3\n",
      "2\n"
     ]
    }
   ],
   "source": [
    "n=int(input())\n",
    "ca=input().split()\n",
    "ca=[int(ca[i]) for i in range(n)]\n",
    "ma=max(ca)\n",
    "print(ca.count(ma))"
   ]
  },
  {
   "cell_type": "markdown",
   "metadata": {},
   "source": [
    "Question 4:(InfyTQ)\n",
    "<br>Consider a non-empty array inarr containing non-zero positive single digit integers separated by “,” (comma).Print a string <br>based on the below logic:\n",
    "<br>From all possible unique three digit number combinations with the elements of inarr\n",
    "<br>Identify the maximum number maxnum among the three digit combinations formed.\n",
    "<br>Print the maxnum followed by the total number of unique digit combinations formed,separating them with a “,” (comma)\n",
    "<br>Assumption: inarr will contain at least 3 elements\n",
    "<br>Note : An element present at a particular index should not be considered more than once while forming a combination.\n",
    "<br>Input format:\n",
    "<br>Read the array inarr from the standard input stream\n",
    "<br>Output format:\n",
    "<br>Print the output to the standard output stream\n",
    "\n",
    "<br>Sample Input : 1,2,1\n",
    "<br>Sample Output: 211,3\n",
    "\n",
    "<br>Sample Input:1,2,1,4\n",
    "<br>Sample output:4211,12"
   ]
  },
  {
   "cell_type": "code",
   "execution_count": 160,
   "metadata": {},
   "outputs": [
    {
     "name": "stdout",
     "output_type": "stream",
     "text": [
      "4,1,2,1\n",
      "4211,12\n"
     ]
    }
   ],
   "source": [
    "import math as m\n",
    "n=input().split(\",\")\n",
    "n.sort()\n",
    "a=''.join(n[::-1])\n",
    "n=[int(i) for i in n]\n",
    "his=dict()\n",
    "for i in n:\n",
    "    his[i]=his.get(i,0)+1\n",
    "p=m.factorial(len(n))\n",
    "k=1\n",
    "for i in his.values():\n",
    "    k*=m.factorial(i)\n",
    "print(a+\",\"+str(p//k))"
   ]
  },
  {
   "cell_type": "markdown",
   "metadata": {},
   "source": [
    "Question 5:(InfyTQ)\n",
    "<br>For a given positive number num,identify the palindrome formed by performing the following operations\n",
    "<br>Add num and its reverse\n",
    "<br>Check whether the sum is palindrome or not.If not,add the sum and its reverse and repeat the process until a palindrome is obtained.\n",
    "<br>Input format : Read num from the standard input stream\n",
    "<br>Output format: print the palindrome calculated to the standard output stream\n",
    "\n",
    "<br>Sample input : 124\n",
    "<br>Sample Output : 545\n",
    "\n",
    "<br>Sample input:195\n",
    "<br>Sample output: 9339 \n"
   ]
  },
  {
   "cell_type": "code",
   "execution_count": 162,
   "metadata": {},
   "outputs": [
    {
     "name": "stdout",
     "output_type": "stream",
     "text": [
      "195\n",
      "9339\n"
     ]
    }
   ],
   "source": [
    "def rev(n):\n",
    "    r=0\n",
    "    while(n>0):\n",
    "        r=r*10+n%10\n",
    "        n=n//10\n",
    "    return r\n",
    "\n",
    "n=int(input())\n",
    "while True:\n",
    "    r=rev(n)\n",
    "    if n==r:\n",
    "        print(n)\n",
    "        break\n",
    "    else:\n",
    "        n=n+r"
   ]
  },
  {
   "cell_type": "markdown",
   "metadata": {},
   "source": [
    "Question 6:<br><a href=\"https://www.codechef.com/problems/SLAEL\">Question in Codechef</a>"
   ]
  },
  {
   "cell_type": "code",
   "execution_count": 5,
   "metadata": {},
   "outputs": [
    {
     "name": "stdout",
     "output_type": "stream",
     "text": [
      "2\n",
      "5 3\n",
      "2 4 2 4 2\n",
      "5\n",
      "8 5\n",
      "9 3 5 7 8 11 17 2\n",
      "3\n"
     ]
    }
   ],
   "source": [
    "for i in range(int(input())):\n",
    "    n,k = map(int,input().split())\n",
    "    a = list(map(int,input().split()))\n",
    "    c,x,i1,i2,b = 0,0,0,0,list()\n",
    "    for j in range(n):\n",
    "        c += 1\n",
    "        if a[j] > k :\n",
    "            x += 1\n",
    "            if x == 1 :\n",
    "                i1 = j\n",
    "            else:\n",
    "                if a[j] == a[i1]:\n",
    "                    x -= 1\n",
    "                else:i2 = j\n",
    "        if x == 2 :\n",
    "            x = 1\n",
    "            b.append(c-1)\n",
    "            c = i2-i1\n",
    "            i1 = i2\n",
    "            i2 = 0\n",
    "        if j == n-1 and b == [ ]:b.append(n)\n",
    "    print(max(b))"
   ]
  }
 ],
 "metadata": {
  "kernelspec": {
   "display_name": "Python 3",
   "language": "python",
   "name": "python3"
  },
  "language_info": {
   "codemirror_mode": {
    "name": "ipython",
    "version": 3
   },
   "file_extension": ".py",
   "mimetype": "text/x-python",
   "name": "python",
   "nbconvert_exporter": "python",
   "pygments_lexer": "ipython3",
   "version": "3.7.3"
  }
 },
 "nbformat": 4,
 "nbformat_minor": 2
}
